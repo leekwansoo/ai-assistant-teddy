{
 "cells": [
  {
   "cell_type": "code",
   "execution_count": null,
   "metadata": {},
   "outputs": [],
   "source": [
    "## Quiz Generator from ai-assistant-teddy \n",
    "## url: https://teddylee777.github.io/openai/openai-assistant-tutorial/#google_vignette"
   ]
  },
  {
   "cell_type": "markdown",
   "metadata": {},
   "source": [
    "퀴즈 생성기 전체코드\n",
    "1) 환경설정Permalink\n",
    ".env 파일로부터 API KEY를 불러옵니다"
   ]
  },
  {
   "cell_type": "code",
   "execution_count": null,
   "metadata": {},
   "outputs": [],
   "source": [
    "# API KEY 정보를 불러옵니다\n",
    "from dotenv import load_dotenv\n",
    "from openai import OpenAI\n",
    "from functions import *\n",
    "load_dotenv()"
   ]
  },
  {
   "cell_type": "code",
   "execution_count": null,
   "metadata": {},
   "outputs": [],
   "source": [
    "import os\n",
    "\n",
    "# os.environ[\"OPENAI_API_KEY\"] = \"API KEY를 입력해 주세요\"\n",
    "# OPENAI_API_KEY 를 설정합니다.\n",
    "api_key = os.environ.get(\"OPENAI_API_KEY\")\n",
    "print(api_key)"
   ]
  },
  {
   "cell_type": "code",
   "execution_count": 5,
   "metadata": {},
   "outputs": [],
   "source": [
    "# OpenAI API를 사용하기 위한 클라이언트 객체를 생성합니다.\n",
    "client = OpenAI(api_key=api_key)"
   ]
  },
  {
   "cell_type": "markdown",
   "metadata": {},
   "source": [
    "2) 파일 업로드Permalink\n",
    "출제될 문제가 기반할 파일을 업로드합니다.\n",
    "\n",
    "신규 파일 업로드\n",
    "기존 업로드된 File ID 사용\n",
    "신규 파일 업로드를 위한 코드입니다. 이미 업로드한 경우 건너 뛰어도 됩니다."
   ]
  },
  {
   "cell_type": "code",
   "execution_count": null,
   "metadata": {},
   "outputs": [],
   "source": [
    "# 파일 업로드를 위한 함수를 정의합니다.\n",
    "def upload_files(files):\n",
    "    uploaded_files = []\n",
    "    for filepath in files:\n",
    "        file = client.files.create(\n",
    "            file=open(\n",
    "                # 업로드할 파일의 경로를 지정합니다.\n",
    "                filepath,  # 파일경로. (예시) data/sample.pdf\n",
    "                \"rb\",\n",
    "            ),\n",
    "            purpose=\"assistants\",\n",
    "        )\n",
    "        uploaded_files.append(file)\n",
    "        print(f\"[업로드한 파일 ID]\\n{file.id}\")\n",
    "    return uploaded_files\n",
    "\n",
    "\n",
    "# 필요에 따라서는 파일을 업로드 합니다.\n",
    "# 파일 업로드시 아래 주석을 해제하고 업로드할 파일의 경로를 지정합니다.\n",
    "# 업로드할 파일들의 경로를 지정합니다.\n",
    "# files_to_upload = [\n",
    "#     \"data/language_models_are_unsupervised_multitask_learners.pdf\",\n",
    "#     \"data/SPRI_AI_Brief_2023년12월호.pdf\",\n",
    "# ]\n",
    "\n",
    "# 파일을 업로드합니다.\n",
    "# file_ids = upload_files(files_to_upload)"
   ]
  },
  {
   "cell_type": "code",
   "execution_count": null,
   "metadata": {},
   "outputs": [],
   "source": [
    "#  이미 업로드한 모든 파일 ID 와 파일명을 출력하여 file.id 목록을 file_ids 에 저장\n",
    "file_ids = []\n",
    "for file in client.files.list():\n",
    "    file_ids.append(file.id)\n",
    "    print(f\"[파일 ID] {file.id} [파일명] {file.filename}\")\n",
    "print(file_ids)"
   ]
  },
  {
   "cell_type": "code",
   "execution_count": 9,
   "metadata": {},
   "outputs": [],
   "source": [
    "# Assistant 가 참고할 파일 ID를 지정합니다.\n",
    "file_ids = [file_ids[0], file_ids[1], file_ids[2]]"
   ]
  },
  {
   "cell_type": "markdown",
   "metadata": {},
   "source": [
    "3) Function Schema 정의Permalink\n",
    "다음으로는 Assistant 를 생성합니다. 생성시 tools에 function을 추가합니다."
   ]
  },
  {
   "cell_type": "code",
   "execution_count": 7,
   "metadata": {},
   "outputs": [],
   "source": [
    "# 스키마를 정의합니다.\n",
    "function_schema = {\n",
    "    \"name\": \"generate_quiz\",\n",
    "    \"description\": \"Generate a quiz to the student, and returns the student's response. A single quiz has multiple questions.\",\n",
    "    \"parameters\": {\n",
    "        \"type\": \"object\",\n",
    "        \"properties\": {\n",
    "            \"title\": {\"type\": \"string\"},\n",
    "            \"questions\": {\n",
    "                \"type\": \"array\",\n",
    "                \"description\": \"An array of questions, each with a title and multiple choice options.\",\n",
    "                \"items\": {\n",
    "                    \"type\": \"object\",\n",
    "                    \"properties\": {\n",
    "                        \"question_text\": {\"type\": \"string\"},\n",
    "                        \"choices\": {\"type\": \"array\", \"items\": {\"type\": \"string\"}},\n",
    "                    },\n",
    "                    \"required\": [\"question_text\", \"choices\"],\n",
    "                },\n",
    "            },\n",
    "        },\n",
    "        \"required\": [\"title\", \"questions\"],\n",
    "    },\n",
    "}"
   ]
  },
  {
   "cell_type": "code",
   "execution_count": null,
   "metadata": {},
   "outputs": [],
   "source": [
    "# 퀴즈를 출제하는 역할을 하는 챗봇을 생성합니다.\n",
    "\n",
    "assistant = client.beta.assistants.create(\n",
    "    name=\"Quiz Generator\",\n",
    "    instructions=\"You are an expert in generating multiple choice quizzes. Create quizzes based on uploaded files.\",\n",
    "    model=\"gpt-4-turbo-preview\",\n",
    "    tools=[\n",
    "        {\"type\": \"code_interpreter\"},\n",
    "        {\"type\": \"function\", \"function\": function_schema},\n",
    "    ],\n",
    ")\n",
    "\n",
    "ASSISTANT_ID = assistant.id\n",
    "# 생성된 챗봇의 정보를 JSON 형태로 출력합니다.\n",
    "show_json(assistant)"
   ]
  },
  {
   "cell_type": "code",
   "execution_count": null,
   "metadata": {},
   "outputs": [],
   "source": [
    "# Add tools into ai_assistant use assistant.upate()\n",
    "ASSISTANT_ID = assistant\n",
    "print(ASSISTANT_ID)\n",
    "assistant = client.beta.assistants.update(\n",
    "    ASSISTANT_ID,\n",
    "    tools=[\n",
    "        {\"type\": \"code_interpreter\"},\n",
    "        ],\n",
    "    tool_resources = [\n",
    "        {\"type\": \"code_interpreter\"},\n",
    "        {\"file_ids\" : file_ids},]\n",
    ")"
   ]
  }
 ],
 "metadata": {
  "kernelspec": {
   "display_name": "llm",
   "language": "python",
   "name": "python3"
  },
  "language_info": {
   "codemirror_mode": {
    "name": "ipython",
    "version": 3
   },
   "file_extension": ".py",
   "mimetype": "text/x-python",
   "name": "python",
   "nbconvert_exporter": "python",
   "pygments_lexer": "ipython3",
   "version": "3.11.9"
  }
 },
 "nbformat": 4,
 "nbformat_minor": 2
}
